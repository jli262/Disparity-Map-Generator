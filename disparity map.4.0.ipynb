{
 "metadata": {
  "language_info": {
   "codemirror_mode": {
    "name": "ipython",
    "version": 3
   },
   "file_extension": ".py",
   "mimetype": "text/x-python",
   "name": "python",
   "nbconvert_exporter": "python",
   "pygments_lexer": "ipython3",
   "version": "3.8.5"
  },
  "orig_nbformat": 2,
  "kernelspec": {
   "name": "python385jvsc74a57bd057064b1c6e9345d87eb8bca4c79616f2935990d7c544331326ca81e26a0f4038",
   "display_name": "Python 3.8.5 64-bit ('base': conda)"
  }
 },
 "nbformat": 4,
 "nbformat_minor": 2,
 "cells": [
  {
   "cell_type": "code",
   "execution_count": 1,
   "metadata": {},
   "outputs": [],
   "source": [
    "import cv2 as cv\n",
    "import numpy as np\n",
    "import os\n",
    "from matplotlib import pyplot as plt\n",
    "from PIL import Image\n",
    "import math"
   ]
  },
  {
   "cell_type": "code",
   "execution_count": 2,
   "metadata": {},
   "outputs": [],
   "source": [
    "l = cv.imread('D:/Disparity-Map-Generator/StereoMatchingTestings/Reindeer/view1.png', cv.IMREAD_GRAYSCALE)\n",
    "r = cv.imread('D:/Disparity-Map-Generator/StereoMatchingTestings/Reindeer/view5.png', cv.IMREAD_GRAYSCALE)"
   ]
  },
  {
   "cell_type": "code",
   "execution_count": 3,
   "metadata": {},
   "outputs": [],
   "source": [
    "window_size = 3\n",
    "min_disp = 0\n",
    "num_disp = 256\n",
    "stereo = cv.StereoSGBM_create(minDisparity = 0,\n",
    "                                numDisparities = num_disp,\n",
    "                                blockSize = window_size,\n",
    "                                P1=8 * 3 * window_size ** 2,\n",
    "                                P2=32 * 3 * window_size ** 2,\n",
    "                                disp12MaxDiff = 1,\n",
    "                                uniquenessRatio = 10,\n",
    "                                speckleWindowSize = 150,\n",
    "                                speckleRange = 1\n",
    "                                )"
   ]
  },
  {
   "cell_type": "code",
   "execution_count": 4,
   "metadata": {},
   "outputs": [],
   "source": [
    "disp_map = stereo.compute(l, r).astype(np.float32) / 16.0\n",
    "disp_map = (disp_map - min_disp) / num_disp"
   ]
  },
  {
   "cell_type": "code",
   "execution_count": 5,
   "metadata": {},
   "outputs": [],
   "source": [
    "count = 0\n",
    "for j in range(disp_map.shape[0]):\n",
    "    if disp_map[0, j] > 0:\n",
    "        count = j\n",
    "        break\n",
    "disp_map_ = np.zeros_like(disp_map)\n",
    "for i in range(disp_map.shape[0]):\n",
    "\n",
    "    for j in range(count, disp_map.shape[1] - 1):\n",
    "        if disp_map[i, j] <= 0:\n",
    "            left = right = j\n",
    "            for k in range(j, 1, -1):\n",
    "                if disp_map[i][k] > 0:\n",
    "                    left = k\n",
    "                    break\n",
    "            for k in range(j, len(disp_map[i])-1):\n",
    "                if disp_map[i][k] > 0:\n",
    "                    right = k\n",
    "                    break\n",
    "            disp_map_[i, j] = (disp_map[i, left - 1] + disp_map[i, right + 1]) / 2\n",
    "        else:\n",
    "            disp_map_[i, j] = disp_map[i, j]"
   ]
  },
  {
   "cell_type": "code",
   "execution_count": 6,
   "metadata": {},
   "outputs": [],
   "source": [
    "for i in range(10):\n",
    "    disp_map_ = cv.medianBlur(disp_map_, 3)"
   ]
  },
  {
   "cell_type": "code",
   "execution_count": 7,
   "metadata": {},
   "outputs": [
    {
     "output_type": "execute_result",
     "data": {
      "text/plain": [
       "True"
      ]
     },
     "metadata": {},
     "execution_count": 7
    }
   ],
   "source": [
    "plt.imsave('SGBM.png', disp_map_)\n",
    "disparity_SGBM = cv.imread('SGBM.png')\n",
    "disparity_SGBM = cv.cvtColor(disparity_SGBM, cv.COLOR_BGR2GRAY)\n",
    "\n",
    "for row in range(len(disparity_SGBM)):\n",
    "    for col in range(len(disparity_SGBM[0])):\n",
    "        disparity_SGBM[row][col] += 2\n",
    "cv.imwrite('D:/Disparity-Map-Generator/PSNR_Assignment2/4.0 output/Reindeer/disp1.png', disparity_SGBM)"
   ]
  },
  {
   "cell_type": "code",
   "execution_count": null,
   "metadata": {},
   "outputs": [],
   "source": []
  }
 ]
}