{
 "metadata": {
  "language_info": {
   "codemirror_mode": {
    "name": "ipython",
    "version": 3
   },
   "file_extension": ".py",
   "mimetype": "text/x-python",
   "name": "python",
   "nbconvert_exporter": "python",
   "pygments_lexer": "ipython3",
   "version": "3.9.4"
  },
  "orig_nbformat": 2,
  "kernelspec": {
   "name": "python394jvsc74a57bd035d7379e1ea4eee3d74b6a0d5849b10c9a9b4d51c8ecd195b667cb3e743087d7",
   "display_name": "Python 3.9.4 64-bit"
  },
  "metadata": {
   "interpreter": {
    "hash": "35d7379e1ea4eee3d74b6a0d5849b10c9a9b4d51c8ecd195b667cb3e743087d7"
   }
  }
 },
 "nbformat": 4,
 "nbformat_minor": 2,
 "cells": [
  {
   "cell_type": "code",
   "execution_count": 1,
   "metadata": {},
   "outputs": [],
   "source": [
    "from matplotlib import pyplot as plt\n",
    "import cv2\n",
    "import numpy as np\n",
    "import matplotlib\n",
    "matplotlib.use(\"TkAgg\")"
   ]
  },
  {
   "cell_type": "code",
   "execution_count": 2,
   "metadata": {},
   "outputs": [],
   "source": [
    "\n",
    "def add_padding(input, padding):\n",
    "    rows = input.shape[0]\n",
    "    columns = input.shape[1]\n",
    "    output = np.zeros((rows + padding * 2, columns + padding * 2), dtype=float)\n",
    "    output[ padding : rows + padding, padding : columns + padding] = input\n",
    "    return output\n",
    "\n",
    "def search_bounds(column, block_size, width, rshift):\n",
    "    disparity_range = 250\n",
    "    padding = block_size // 2\n",
    "    right_bound = column\n",
    "    if rshift:\n",
    "        left_bound = column - disparity_range\n",
    "        if left_bound < padding:\n",
    "            left_bound = padding\n",
    "        step = 1\n",
    "    else:\n",
    "        left_bound = column + disparity_range\n",
    "        if left_bound >= (width - 2*padding):\n",
    "            left_bound = width - 2*padding - 2\n",
    "        step = -1\n",
    "    return left_bound, right_bound, step"
   ]
  },
  {
   "cell_type": "code",
   "execution_count": 3,
   "metadata": {},
   "outputs": [],
   "source": [
    "grayscale_max = 255"
   ]
  },
  {
   "cell_type": "code",
   "execution_count": 4,
   "metadata": {},
   "outputs": [],
   "source": [
    "l = cv2.imread('D:/Disparity-Map-Generator/StereoMatchingTestings/Dolls/view1.png', cv2.IMREAD_GRAYSCALE)\n",
    "r = cv2.imread('D:/Disparity-Map-Generator/StereoMatchingTestings/Dolls/view5.png', cv2.IMREAD_GRAYSCALE)"
   ]
  },
  {
   "cell_type": "code",
   "execution_count": 5,
   "metadata": {},
   "outputs": [],
   "source": [
    "\n",
    "block_size = 5"
   ]
  },
  {
   "cell_type": "code",
   "execution_count": 6,
   "metadata": {},
   "outputs": [],
   "source": [
    "\n",
    "padding = block_size // 2\n",
    "left_img = add_padding(l, padding)\n",
    "right_img = add_padding(r, padding)"
   ]
  },
  {
   "cell_type": "code",
   "execution_count": 7,
   "metadata": {},
   "outputs": [],
   "source": [
    "height, width = left_img.shape"
   ]
  },
  {
   "cell_type": "code",
   "execution_count": 8,
   "metadata": {},
   "outputs": [],
   "source": [
    "d_map = np.zeros(l.shape, dtype=float)"
   ]
  },
  {
   "cell_type": "code",
   "execution_count": 9,
   "metadata": {},
   "outputs": [],
   "source": [
    "rshift = True"
   ]
  },
  {
   "cell_type": "code",
   "execution_count": null,
   "metadata": {},
   "outputs": [],
   "source": [
    "for row in range(height - block_size + 1):\n",
    "    for col in range(width - block_size + 1):\n",
    "\n",
    "        bestdist = -1\n",
    "        shift = 0\n",
    "        left_pixel = left_img[row:row + block_size, col:col + block_size]\n",
    "        l_bound, r_bound, step = search_bounds(col, block_size, width, rshift)\n",
    "\n",
    "        for i in range(l_bound, r_bound, step):\n",
    "            right_pixel = right_img[row:row + block_size, i:i + block_size]\n",
    "\n",
    "            ssd = np.sum((left_pixel - right_pixel) ** 2)\n",
    "\n",
    "            if ssd < bestdist:\n",
    "                bestdist = ssd\n",
    "                shift = i\n",
    "\n",
    "            # ncc = np.sum(left_pixel*right_pixel)/((np.sum(left_pixel**2)*np.sum(right_pixel**2))**0.5)\n",
    "\n",
    "            # if ncc/ssd > bestdist:\n",
    "            #     bestdist = ncc/ssd\n",
    "            #     shift = i\n",
    "\n",
    "        if rshift:\n",
    "            d_map[row, col] = col - shift\n",
    "        else:\n",
    "            d_map[row, col] = shift - col"
   ]
  },
  {
   "source": [
    "max_val = d_map.max()\n",
    "# image = np.absolute(image)\n",
    "image = np.divide(d_map, max_val)\n",
    "disparity_SGBM = cv2.normalize(image*grayscale_max, image*grayscale_max, alpha=255,\n",
    "                              beta=0, norm_type=cv2.NORM_MINMAX)\n",
    "disparity_SGBM = np.uint8(disparity_SGBM)\n",
    "cv2.imwrite('D:/Disparity-Map-Generator/PSNR_Assignment2/3.0 output/Dolls/disp1.png', disparity_SGBM)"
   ],
   "cell_type": "code",
   "metadata": {},
   "execution_count": null,
   "outputs": []
  },
  {
   "cell_type": "code",
   "execution_count": null,
   "metadata": {},
   "outputs": [],
   "source": []
  }
 ]
}