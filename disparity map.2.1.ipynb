{
 "metadata": {
  "language_info": {
   "codemirror_mode": {
    "name": "ipython",
    "version": 3
   },
   "file_extension": ".py",
   "mimetype": "text/x-python",
   "name": "python",
   "nbconvert_exporter": "python",
   "pygments_lexer": "ipython3",
   "version": "3.9.4"
  },
  "orig_nbformat": 2,
  "kernelspec": {
   "name": "python394jvsc74a57bd035d7379e1ea4eee3d74b6a0d5849b10c9a9b4d51c8ecd195b667cb3e743087d7",
   "display_name": "Python 3.9.4 64-bit"
  },
  "metadata": {
   "interpreter": {
    "hash": "35d7379e1ea4eee3d74b6a0d5849b10c9a9b4d51c8ecd195b667cb3e743087d7"
   }
  }
 },
 "nbformat": 4,
 "nbformat_minor": 2,
 "cells": [
  {
   "cell_type": "code",
   "execution_count": null,
   "metadata": {},
   "outputs": [],
   "source": [
    "import numpy as np\n",
    "import cv2 as cv\n",
    "import matplotlib.pyplot as plt\n",
    "import imutils\n",
    "import imageio\n",
    "\n",
    "# Read both images and convert to grayscale\n",
    "img1 = cv.imread(r'D:\\Disparity-Map-Generator\\StereoMatchingTestings\\Art\\view1.png', cv.IMREAD_GRAYSCALE)\n",
    "img2 = cv.imread(r'D:\\Disparity-Map-Generator\\StereoMatchingTestings\\Art\\view5.png', cv.IMREAD_GRAYSCALE)\n",
    "\n",
    "sift = cv.SIFT_create()\n",
    "# find the keypoints and descriptors with SIFT\n",
    "kp1, des1 = sift.detectAndCompute(img1, None)\n",
    "kp2, des2 = sift.detectAndCompute(img2, None)"
   ]
  },
  {
   "cell_type": "code",
   "execution_count": null,
   "metadata": {},
   "outputs": [],
   "source": [
    "\n",
    "# Match keypoints in both images\n",
    "# Based on: https://docs.opencv.org/master/dc/dc3/tutorial_py_matcher.html\n",
    "FLANN_INDEX_KDTREE = 1\n",
    "index_params = dict(algorithm=FLANN_INDEX_KDTREE, trees=5)\n",
    "search_params = dict(checks=50)   # or pass empty dictionary\n",
    "flann = cv.FlannBasedMatcher(index_params, search_params)\n",
    "matches = flann.knnMatch(des1, des2, k=2)\n",
    "\n",
    "# Keep good matches: calculate distinctive image features\n",
    "# Lowe, D.G. Distinctive Image Features from Scale-Invariant Keypoints. International Journal of Computer Vision 60, 91–110 (2004). https://doi.org/10.1023/B:VISI.0000029664.99615.94\n",
    "# https://www.cs.ubc.ca/~lowe/papers/ijcv04.pdf\n",
    "matchesMask = [[0, 0] for i in range(len(matches))]\n",
    "good = []\n",
    "pts1 = []\n",
    "pts2 = []\n",
    "\n",
    "for i, (m, n) in enumerate(matches):\n",
    "    if m.distance < 0.7*n.distance:\n",
    "        # Keep this keypoint pair\n",
    "        matchesMask[i] = [1, 0]\n",
    "        good.append(m)\n",
    "        pts2.append(kp2[m.trainIdx].pt)\n",
    "        pts1.append(kp1[m.queryIdx].pt)"
   ]
  },
  {
   "cell_type": "code",
   "execution_count": null,
   "metadata": {},
   "outputs": [],
   "source": [
    "# Calculate the fundamental matrix for the cameras\n",
    "# https://docs.opencv.org/master/da/de9/tutorial_py_epipolar_geometry.html\n",
    "pts1 = np.int32(pts1)\n",
    "pts2 = np.int32(pts2)\n",
    "fundamental_matrix, inliers = cv.findFundamentalMat(pts1, pts2, cv.FM_RANSAC)\n",
    "\n",
    "# We select only inlier points\n",
    "pts1 = pts1[inliers.ravel() == 1]\n",
    "pts2 = pts2[inliers.ravel() == 1]"
   ]
  },
  {
   "cell_type": "code",
   "execution_count": null,
   "metadata": {},
   "outputs": [],
   "source": [
    "# Visualize epilines\n",
    "# Adapted from: https://docs.opencv.org/master/da/de9/tutorial_py_epipolar_geometry.html\n",
    "def drawlines(img1src, img2src, lines, pts1src, pts2src):\n",
    "    ''' img1 - image on which we draw the epilines for the points in img2\n",
    "        lines - corresponding epilines '''\n",
    "    r, c = img1src.shape\n",
    "    img1color = cv.cvtColor(img1src, cv.COLOR_GRAY2BGR)\n",
    "    img2color = cv.cvtColor(img2src, cv.COLOR_GRAY2BGR)\n",
    "    # Edit: use the same random seed so that two images are comparable!\n",
    "    np.random.seed(0)\n",
    "    for r, pt1, pt2 in zip(lines, pts1src, pts2src):\n",
    "        color = tuple(np.random.randint(0, 255, 3).tolist())\n",
    "        x0, y0 = map(int, [0, -r[2]/r[1]])\n",
    "        x1, y1 = map(int, [c, -(r[2]+r[0]*c)/r[1]])\n",
    "        img1color = cv.line(img1color, (x0, y0), (x1, y1), color, 1)\n",
    "        img1color = cv.circle(img1color, tuple(pt1), 5, color, -1)\n",
    "        img2color = cv.circle(img2color, tuple(pt2), 5, color, -1)\n",
    "    return img1color, img2color\n",
    "\n",
    "\n",
    "# Find epilines corresponding to points in right image (second image) and\n",
    "# drawing its lines on left image\n",
    "lines1 = cv.computeCorrespondEpilines(\n",
    "    pts2.reshape(-1, 1, 2), 2, fundamental_matrix)\n",
    "lines1 = lines1.reshape(-1, 3)\n",
    "img5, img6 = drawlines(img1, img2, lines1, pts1, pts2)\n",
    "\n",
    "# Find epilines corresponding to points in left image (first image) and\n",
    "# drawing its lines on right image\n",
    "lines2 = cv.computeCorrespondEpilines(\n",
    "    pts1.reshape(-1, 1, 2), 1, fundamental_matrix)\n",
    "lines2 = lines2.reshape(-1, 3)\n",
    "img3, img4 = drawlines(img2, img1, lines2, pts2, pts1)\n",
    "\n",
    "plt.subplot(121), plt.imshow(img5)\n",
    "plt.subplot(122), plt.imshow(img3)\n",
    "plt.suptitle(\"Epilines in both images\")\n",
    "plt.show()"
   ]
  },
  {
   "cell_type": "code",
   "execution_count": null,
   "metadata": {},
   "outputs": [],
   "source": [
    "h1, w1 = img1.shape\n",
    "h2, w2 = img2.shape\n",
    "_, H1, H2 = cv.stereoRectifyUncalibrated(\n",
    "    np.float32(pts1), np.float32(pts2), fundamental_matrix, imgSize=(w1, h1)\n",
    ")"
   ]
  },
  {
   "cell_type": "code",
   "execution_count": null,
   "metadata": {},
   "outputs": [],
   "source": [
    "# Undistort (rectify) the images and save them\n",
    "# Adapted from: https://stackoverflow.com/a/62607343\n",
    "img1_rectified = cv.warpPerspective(img1, H1, (w1, h1))\n",
    "img2_rectified = cv.warpPerspective(img2, H2, (w2, h2))\n",
    "cv.imwrite(\"rectified_1.png\", img1_rectified)\n",
    "cv.imwrite(\"rectified_2.png\", img2_rectified)"
   ]
  },
  {
   "cell_type": "code",
   "execution_count": null,
   "metadata": {},
   "outputs": [],
   "source": [
    "# Draw the rectified images\n",
    "fig, axes = plt.subplots(1, 2, figsize=(15, 10))\n",
    "axes[0].imshow(img1_rectified, cmap=\"gray\")\n",
    "axes[1].imshow(img2_rectified, cmap=\"gray\")\n",
    "axes[0].axvline(250)\n",
    "axes[1].axvline(250)\n",
    "axes[0].axvline(450)\n",
    "axes[1].axvline(450)\n",
    "plt.suptitle(\"Rectified images\")\n",
    "plt.savefig(\"rectified_images.png\")\n",
    "plt.show()"
   ]
  },
  {
   "cell_type": "code",
   "execution_count": null,
   "metadata": {},
   "outputs": [],
   "source": [
    "# ------------------------------------------------------------\n",
    "# CALCULATE DISPARITY (DEPTH MAP)\n",
    "# Adapted from: https://github.com/opencv/opencv/blob/master/samples/python/stereo_match.py\n",
    "# and: https://docs.opencv.org/master/dd/d53/tutorial_py_depthmap.html\n",
    "\n",
    "# StereoSGBM Parameter explanations:\n",
    "# https://docs.opencv.org/4.5.0/d2/d85/classcv_1_1StereoSGBM.html\n",
    "\n",
    "stereo = cv.StereoBM_create(numDisparities=96, blockSize=11)\n",
    "\n",
    "disparity_SGBM = stereo.compute(img1_rectified, img2_rectified)\n",
    "\n",
    "# Normalize the values to a range from 0..255 for a grayscale image\n",
    "disparity_SGBM = cv.normalize(disparity_SGBM, disparity_SGBM, alpha=255,\n",
    "                              beta=0, norm_type=cv.NORM_MINMAX)\n",
    "disparity_SGBM = np.uint8(disparity_SGBM)\n",
    "cv.imwrite('PSNR_Assignment2\\PSNR_Python\\pred\\Art\\disp1.png', disparity_SGBM)"
   ]
  },
  {
   "cell_type": "code",
   "execution_count": null,
   "metadata": {},
   "outputs": [],
   "source": []
  }
 ]
}